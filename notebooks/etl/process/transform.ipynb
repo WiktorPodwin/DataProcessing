{
 "cells": [
  {
   "cell_type": "code",
   "execution_count": 1,
   "id": "1d079d16-39f5-4cc6-8ea1-1c8402c94d7d",
   "metadata": {},
   "outputs": [],
   "source": [
    "%run /home/jovyan/work/etl/src/transform_data_types.ipynb import ScorersDataType, ResultsDataType, ShootoutsDataType\n",
    "%run /home/jovyan/work/etl/src/queries.ipynb import BestWinRatio, BestScorer, WorldCupWinner, Tournaments, GoalsPerMinute"
   ]
  },
  {
   "cell_type": "code",
   "execution_count": 2,
   "id": "84971681",
   "metadata": {},
   "outputs": [],
   "source": [
    "import logging\n",
    "from typing import Dict\n",
    "from pyspark.sql import DataFrame, SparkSession"
   ]
  },
  {
   "cell_type": "code",
   "execution_count": null,
   "id": "108d5a45",
   "metadata": {},
   "outputs": [],
   "source": [
    "def transform_process(spark: SparkSession, \n",
    "                      scorers: DataFrame, \n",
    "                      results: DataFrame, \n",
    "                      shootouts: DataFrame\n",
    "                      ) -> Dict[str, DataFrame]:\n",
    "    \"\"\"\n",
    "    Preprocess and transfroms data into desired form\n",
    "\n",
    "    Args:\n",
    "        spark: Active SparkSession\n",
    "        scorers: DataFrame containing 'scorers' data\n",
    "        results: DataFrame containing 'results' data\n",
    "        shootouts: DataFrame containing 'shootouts' data\n",
    "    Returns:\n",
    "        Dict[str, DataFrame]: Dictionary containing names of DataFrames as keys and DataFrames as values\n",
    "    \"\"\"\n",
    "    try:\n",
    "        logging.info(\"\\nStarted the transformation process:\")\n",
    "        scorers_dtype = ScorersDataType()\n",
    "        scorers = scorers_dtype.define_dtype(scorers)\n",
    "        results_dtype = ResultsDataType()\n",
    "        results = results_dtype.define_dtype(results)\n",
    "        shootouts_dtype = ShootoutsDataType()\n",
    "        shootouts = shootouts_dtype.define_dtype(shootouts)\n",
    "        \n",
    "        best_win_ratio = BestWinRatio().query(spark, results)\n",
    "        best_scorer = BestScorer().query(spark, scorers)\n",
    "        world_cup = WorldCupWinner().query(spark, results, shootouts)\n",
    "        tournaments = Tournaments().query(spark, results)\n",
    "        goals_per_minute = GoalsPerMinute().query(spark, scorers)\n",
    "\n",
    "        transformed_tables = {\"best_win_ratio\": best_win_ratio,\n",
    "                              \"best_scorer\": best_scorer,\n",
    "                              \"world_cup\": world_cup,\n",
    "                              \"tournament_percentage\": tournaments,\n",
    "                              \"goals_per_minute\": goals_per_minute}\n",
    "\n",
    "        logging.info(\"Finished the transformation process\")\n",
    "        return transformed_tables\n",
    "    except Exception as e:\n",
    "        logging.error(f\"Error in the transformation process: {e}\")\n",
    "        raise e"
   ]
  }
 ],
 "metadata": {
  "kernelspec": {
   "display_name": "Python 3 (ipykernel)",
   "language": "python",
   "name": "python3"
  }
 },
 "nbformat": 4,
 "nbformat_minor": 5
}
