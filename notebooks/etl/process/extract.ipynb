{
 "cells": [
  {
   "cell_type": "code",
   "execution_count": null,
   "metadata": {},
   "outputs": [],
   "source": [
    "%run /home/jovyan/work/etl/src/data_extraction.ipynb import DataExtraction\n",
    "%run /home/jovyan/work/etl/src/load_data.ipynb import LoadData"
   ]
  },
  {
   "cell_type": "code",
   "execution_count": null,
   "metadata": {},
   "outputs": [],
   "source": [
    "import logging\n",
    "from typing import Dict, Tuple\n",
    "from pyspark.sql import SparkSession, DataFrame"
   ]
  },
  {
   "cell_type": "code",
   "execution_count": null,
   "metadata": {},
   "outputs": [],
   "source": [
    "def extract_process(spark: SparkSession, \n",
    "                    files: Dict[str, str]\n",
    "                    ) -> Tuple[DataFrame, DataFrame, DataFrame]:\n",
    "    \"\"\"\n",
    "    Extracts data from CSV files and saves into database\n",
    "    \n",
    "    Args:\n",
    "        spark: Active SparkSession\n",
    "        files: A dictionary with table names as keys and corresponding CSV file paths as values\n",
    "    Returns:\n",
    "        Tuple[DataFrame, DataFrame, DataFrame]: Tuple of 3 DataFrames storing data \n",
    "                                                in order 'scorers', 'results', 'shootouts'\n",
    "    \"\"\"\n",
    "    try:\n",
    "        logging.info(\"\\nStarted the extraction process:\")\n",
    "        data_extraction = DataExtraction(spark)\n",
    "        for key in files.keys():\n",
    "            data_extraction.save_to_database(path=files[key], table_name=key)\n",
    "            \n",
    "        load_data = LoadData(spark)\n",
    "        keys = list(files.keys())\n",
    "        scorers = load_data.load_from_database(keys[0])\n",
    "        results = load_data.load_from_database(keys[1])\n",
    "        shootouts = load_data.load_from_database(keys[2])\n",
    "\n",
    "        logging.info(\"Finished the extraction process\")\n",
    "        return scorers, results, shootouts\n",
    "    except Exception as e:\n",
    "        logging.error(f\"Error in the extraction process: {e}\")\n",
    "        raise e"
   ]
  }
 ],
 "metadata": {
  "kernelspec": {
   "display_name": "Python 3 (ipykernel)",
   "language": "python",
   "name": "python3"
  }
 },
 "nbformat": 4,
 "nbformat_minor": 2
}
