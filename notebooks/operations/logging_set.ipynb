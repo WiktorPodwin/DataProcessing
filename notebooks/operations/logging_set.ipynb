{
 "cells": [
  {
   "cell_type": "code",
   "execution_count": null,
   "metadata": {},
   "outputs": [],
   "source": [
    "import logging"
   ]
  },
  {
   "cell_type": "code",
   "execution_count": null,
   "metadata": {},
   "outputs": [],
   "source": [
    "def set_logging():\n",
    "    \"\"\"\n",
    "    Set up logging settings\n",
    "    \"\"\"\n",
    "    try:\n",
    "        logger = logging.getLogger()\n",
    "        if logger.hasHandlers():\n",
    "            logger.handlers.clear()\n",
    "        logging.basicConfig(level=logging.INFO, format='%(message)s')\n",
    "    except Exception as e:\n",
    "        logging.error(f\"Error in logging set up: {e}\")\n",
    "        raise e"
   ]
  }
 ],
 "metadata": {
  "language_info": {
   "name": "python"
  }
 },
 "nbformat": 4,
 "nbformat_minor": 2
}
