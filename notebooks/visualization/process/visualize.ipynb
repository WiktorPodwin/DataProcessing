{
 "cells": [
  {
   "cell_type": "code",
   "execution_count": 1,
   "metadata": {},
   "outputs": [],
   "source": [
    "%run /home/jovyan/work/ETL/src/load_data.ipynb import LoadData\n",
    "%run /home/jovyan/work/visualization/src/create_graphs.ipynb import BarGraph, PieGraph, PlotGraph\n",
    "%run /home/jovyan/work/operations/spark_db_connection.ipynb import create_spark_session\n",
    "%run /home/jovyan/work/ETL/ETL_pipeline.ipynb import ETL_pipeline, ExtractionParamaters"
   ]
  },
  {
   "cell_type": "code",
   "execution_count": 2,
   "metadata": {},
   "outputs": [],
   "source": [
    "import logging"
   ]
  },
  {
   "cell_type": "code",
   "execution_count": 5,
   "metadata": {},
   "outputs": [],
   "source": [
    "def visualization_pipeline() -> None:\n",
    "    \"\"\"\n",
    "    Visualizes results using transformed data on graphs\n",
    "\n",
    "    This process includes following steps:\n",
    "    1. **ETL**: Executes ETL pipeline to extract, transform and load prepared data\n",
    "    2. **Data Loading**: Loads the pre-processed from Data Warehouse into Spark DataFrames\n",
    "    3. **Data Visualization**: Visualizates results on chosen graphs and saves into specified path\n",
    "    \"\"\"\n",
    "    try:\n",
    "        logging.info(\"\\nStarted Visualization pipeline:\\n\")\n",
    "        spark = create_spark_session()\n",
    "        ETL_pipeline(spark, ExtractionParamaters)\n",
    "\n",
    "        load_data = LoadData(spark)\n",
    "        best_win_ratio = load_data.load_from_database(\"best_win_ratio\")\n",
    "        best_scorer = load_data.load_from_database(\"best_scorer\")\n",
    "        world_cup = load_data.load_from_database(\"world_cup\")\n",
    "        tournaments = load_data.load_from_database(\"tournament_percentage\")\n",
    "        goals_per_minute = load_data.load_from_database(\"goals_per_minute\")\n",
    "        \n",
    "        BarGraph(file_name=\"highest_win_ratio\", df=best_win_ratio).create_graph(title='Highest Win Ratio')\n",
    "        BarGraph(df=best_scorer, file_name=\"best_scorer\").create_graph(title='Best Scorer')\n",
    "        BarGraph(df=world_cup, file_name=\"world_cup_trophies\").create_graph(title='World Cup Trophies')\n",
    "        PieGraph(df=tournaments, file_name=\"tournament_percentage\").create_graph(title='Tournaments Percentage')\n",
    "        PlotGraph(df=goals_per_minute, file_name=\"goals_per_minute\").create_graph(title=\"Goals per Minute\")\n",
    "        logging.info(\"\\nFinished Visualization pipeline\")\n",
    "\n",
    "    except Exception as e:\n",
    "        logging.error(f\"Error in visualization pipeline: {e}\")\n",
    "        raise e"
   ]
  },
  {
   "cell_type": "code",
   "execution_count": 6,
   "metadata": {},
   "outputs": [
    {
     "name": "stderr",
     "output_type": "stream",
     "text": [
      "\n",
      "Started Visualization pipeline:\n",
      "\n",
      "Started ETL pipeline\n",
      "\n",
      "Started the extraction process:\n",
      "Successfully ingested data from: '/home/jovyan/work/dataset/goalscorers.csv'\n",
      "Successfully saved table: scorers\n",
      "Successfully ingested data from: '/home/jovyan/work/dataset/results.csv'\n",
      "Successfully saved table: results\n",
      "Successfully ingested data from: '/home/jovyan/work/dataset/shootouts.csv'\n",
      "Successfully saved table: shootouts\n",
      "Successfully loaded table: scorers\n",
      "Successfully loaded table: results\n",
      "Successfully loaded table: shootouts\n",
      "Finished the extraction process\n",
      "\n",
      "Started the transformation process:\n",
      "Successfully converted data types for table 'scorers'\n",
      "Successfully converted data types for table 'results'\n",
      "Successfully converted data types for table 'shootouts'\n",
      "Successfully found the best football team\n",
      "Successfully found the best scorer\n",
      "Successfully found FIFA World Cup winners\n",
      "Successfully found percentage of each tournament played\n",
      "Successfully found number of goals per minute\n",
      "Finished the transformation process\n",
      "\n",
      "Started the loading process:\n",
      "Successfully saved table: best_win_ratio\n",
      "Successfully saved table: best_scorer\n",
      "Successfully saved table: world_cup\n",
      "Successfully saved table: tournament_percentage\n",
      "Successfully saved table: goals_per_minute\n",
      "Finished the loading process\n",
      "\n",
      "Successfully finished ETL pipeline\n",
      "\n",
      "Successfully loaded table: best_win_ratio\n",
      "Successfully loaded table: best_scorer\n",
      "Successfully loaded table: world_cup\n",
      "Successfully loaded table: tournament_percentage\n",
      "Successfully loaded table: goals_per_minute\n",
      "Successfully saved the image to the file: /home/jovyan/work/visualization/graphs/highest_win_ratio\n",
      "Successfully saved the image to the file: /home/jovyan/work/visualization/graphs/best_scorer\n",
      "Successfully saved the image to the file: /home/jovyan/work/visualization/graphs/world_cup_trophies\n",
      "Successfully saved the image to the file: /home/jovyan/work/visualization/graphs/tournament_percentage\n",
      "Successfully saved the image to the file: /home/jovyan/work/visualization/graphs/goals_per_minute\n",
      "\n",
      "Finished Visualization pipeline\n"
     ]
    }
   ],
   "source": [
    "visualization_pipeline()"
   ]
  }
 ],
 "metadata": {
  "kernelspec": {
   "display_name": "Python 3 (ipykernel)",
   "language": "python",
   "name": "python3"
  },
  "language_info": {
   "codemirror_mode": {
    "name": "ipython",
    "version": 3
   },
   "file_extension": ".py",
   "mimetype": "text/x-python",
   "name": "python",
   "nbconvert_exporter": "python",
   "pygments_lexer": "ipython3",
   "version": "3.11.6"
  }
 },
 "nbformat": 4,
 "nbformat_minor": 2
}
