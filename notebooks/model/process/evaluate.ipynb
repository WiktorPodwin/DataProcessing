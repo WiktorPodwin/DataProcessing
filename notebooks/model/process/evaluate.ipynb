{
 "cells": [
  {
   "cell_type": "code",
   "execution_count": 1,
   "metadata": {},
   "outputs": [],
   "source": [
    "%run /home/jovyan/work/model/src/model_evaluation.ipynb import ModelEvaluate\n",
    "%run /home/jovyan/work/model/src/calculate_metrics.ipynb import ConfusionMatrix, AccuracyScore"
   ]
  },
  {
   "cell_type": "code",
   "execution_count": 2,
   "metadata": {},
   "outputs": [],
   "source": [
    "import logging\n",
    "import numpy as np\n",
    "from typing import Dict, Tuple\n",
    "from tensorflow.keras.models import Model"
   ]
  },
  {
   "cell_type": "code",
   "execution_count": null,
   "metadata": {},
   "outputs": [],
   "source": [
    "def evaluate(model: Model, \n",
    "             test_data: Dict[str, Dict[str, np.ndarray]],\n",
    "             metrics: Dict[str, str],\n",
    "             model_type: str\n",
    "             ) -> Tuple[np.ndarray, np.ndarray]:\n",
    "    \"\"\"\n",
    "    Handles model evaluation process\n",
    "    \n",
    "    Args:\n",
    "        model: Trained model\n",
    "        test_data: Dictionary containing test data\n",
    "        metrics: Dictionary with names of loss and metrics algorithms used in model\n",
    "        model_type: Type of model (regressor/classifier)\n",
    "    Returns:\n",
    "        Tuple[np.ndarray, np.ndarray]:\n",
    "            - 'home_score' Confusion Matrix \n",
    "            - 'away_score' Confusion Matrix \n",
    "    \"\"\"\n",
    "    try:\n",
    "        logging.info(\"\\nStarted model evaluation\")\n",
    "        evaluate = ModelEvaluate(model=model, test_dataset=test_data)\n",
    "        home_pred, away_pred = evaluate.model_predict()\n",
    "        evaluate.calculate_metrics(metrics)\n",
    "\n",
    "        if model_type == \"regressor\":\n",
    "            home_pred = evaluate.round_results(home_pred)\n",
    "            away_pred = evaluate.round_results(away_pred)\n",
    "            accuracy = AccuracyScore()\n",
    "            accuracy.calculate_scores(test_data[\"targets\"][\"home_score\"], home_pred, \"home_score\")\n",
    "            accuracy.calculate_scores(test_data[\"targets\"][\"away_score\"], away_pred, \"away_score\")\n",
    "        elif model_type == \"classifier\":\n",
    "            home_pred = evaluate.select_one_category(home_pred)\n",
    "            away_pred = evaluate.select_one_category(away_pred)\n",
    "        else:\n",
    "            raise ValueError(\"Wrong model_type variable, acceptable only: 'regressor' or 'classifier'\")\n",
    "\n",
    "        conf_matrix = ConfusionMatrix()\n",
    "        home_conf_matrix = conf_matrix.calculate_scores(test_data[\"targets\"][\"home_score\"], home_pred)\n",
    "        away_conf_matrix = conf_matrix.calculate_scores(test_data[\"targets\"][\"away_score\"], away_pred)\n",
    "        \n",
    "        logging.info(\"Successfully finished model evaluation \\n\")\n",
    "        return home_conf_matrix, away_conf_matrix\n",
    "    except Exception as e:\n",
    "        logging.error(f\"Error in evaluation process: {e}\")\n",
    "        raise e"
   ]
  }
 ],
 "metadata": {
  "kernelspec": {
   "display_name": "Python 3 (ipykernel)",
   "language": "python",
   "name": "python3"
  }
 },
 "nbformat": 4,
 "nbformat_minor": 2
}
