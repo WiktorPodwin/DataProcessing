{
 "cells": [
  {
   "cell_type": "code",
   "execution_count": null,
   "metadata": {},
   "outputs": [],
   "source": [
    "%run /home/jovyan/work/model/src/plots.ipynb import CreatePlot"
   ]
  },
  {
   "cell_type": "code",
   "execution_count": 1,
   "metadata": {},
   "outputs": [],
   "source": [
    "import logging\n",
    "import numpy as np\n",
    "from typing import List\n",
    "from tensorflow.keras.models import Model\n",
    "from tensorflow.keras.callbacks import History"
   ]
  },
  {
   "cell_type": "code",
   "execution_count": null,
   "metadata": {},
   "outputs": [],
   "source": [
    "def visualize(model: Model, \n",
    "              home_conf_matrix: np.ndarray, \n",
    "              away_conf_matrix: np.ndarray, \n",
    "              history: History, \n",
    "              metrics: List[str]) -> None:\n",
    "    \"\"\"\n",
    "    Handles visualization process\n",
    "\n",
    "    Args:\n",
    "        model: Model structure\n",
    "        home_conf_matrix: Confusion Matrix of 'home_score' results\n",
    "        away_conf_matrix: Confusion Matrix of 'away_score' results\n",
    "        history: History of metrics all epochs during training\n",
    "        metrics: Dictionary with names of loss and metrics algorithms used in model\n",
    "    \"\"\"\n",
    "    try:\n",
    "        logging.info(\"Started viusalization process\")\n",
    "        create_plot = CreatePlot()\n",
    "        create_plot.clear_directory()\n",
    "\n",
    "        create_plot.visualize_model(model)\n",
    "        \n",
    "        create_plot.conf_matrix(home_conf_matrix, \"home_score\")\n",
    "        create_plot.conf_matrix(away_conf_matrix, \"away_score\")\n",
    "\n",
    "        create_plot.metrics_history(history, metrics)\n",
    "        logging.info(\"Successfully finished visualization process \\n\")\n",
    "    except Exception as e:\n",
    "        logging.error(f\"Error in process visualization: {e}\")\n",
    "        raise e"
   ]
  }
 ],
 "metadata": {
  "kernelspec": {
   "display_name": "Python 3 (ipykernel)",
   "language": "python",
   "name": "python3"
  }
 },
 "nbformat": 4,
 "nbformat_minor": 2
}
