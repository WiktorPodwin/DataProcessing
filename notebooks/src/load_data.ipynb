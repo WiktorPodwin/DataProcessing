{
 "cells": [
  {
   "cell_type": "code",
   "execution_count": 4,
   "id": "02b43e8e-84b5-43f1-b4db-748dc7345c97",
   "metadata": {},
   "outputs": [],
   "source": [
    "from typing import List, Tuple, Type\n",
    "from pyspark.sql import SparkSession, DataFrame\n",
    "import logging\n",
    "\n",
    "class LoadData:\n",
    "    \"\"\"\n",
    "    Class for loading raw data from the database\n",
    "    \"\"\"\n",
    "    def __init__(self, spark: SparkSession) -> None:\n",
    "        \"\"\"\n",
    "        Args:\n",
    "            spark: Active SparkSession\n",
    "        \"\"\"\n",
    "        self.data_operations = DataOperations(spark)\n",
    "\n",
    "    def load_from_database(self, table_name: str) -> DataFrame:\n",
    "        \"\"\"\n",
    "        Loads table from database\n",
    "\n",
    "        Args:\n",
    "            table_name: Name of the table to load \n",
    "        Returns:\n",
    "            DataFrame: Loaded table as DataFrame\n",
    "        \"\"\"\n",
    "        try:\n",
    "            loaded_table = self.data_operations.load_data(table_name)\n",
    "            return loaded_table\n",
    "        except Exception as e:\n",
    "            logging.error(f\"Error while loading data from database: {e}\")\n",
    "            raise e"
   ]
  },
  {
   "cell_type": "code",
   "execution_count": null,
   "id": "8aa91f89-7b25-4f3f-a812-c6ff87dc4b7d",
   "metadata": {},
   "outputs": [],
   "source": [
    "# def load_raw_data(config: Type[ExtractionParamaters] = ExtractionParamaters) -> Tuple[DataFrame, ...]:\n",
    "#     \"\"\"\n",
    "#     Loads tables from PostgreSQL database \n",
    "\n",
    "#     Args:\n",
    "#         config: Class for describing table names\n",
    "#     Returns:\n",
    "#         Tuple[Dataframe, ...]: Loaded tables from database\n",
    "#     \"\"\"\n",
    "#     load_data = LoadData(spark, config.list_of_names)\n",
    "#     table_1, table_2, table_3 = load_data.load_from_database()\n",
    "#     return table_1, table_2, table_3"
   ]
  }
 ],
 "metadata": {
  "kernelspec": {
   "display_name": "Python 3 (ipykernel)",
   "language": "python",
   "name": "python3"
  },
  "language_info": {
   "codemirror_mode": {
    "name": "ipython",
    "version": 3
   },
   "file_extension": ".py",
   "mimetype": "text/x-python",
   "name": "python",
   "nbconvert_exporter": "python",
   "pygments_lexer": "ipython3",
   "version": "3.11.6"
  }
 },
 "nbformat": 4,
 "nbformat_minor": 5
}
