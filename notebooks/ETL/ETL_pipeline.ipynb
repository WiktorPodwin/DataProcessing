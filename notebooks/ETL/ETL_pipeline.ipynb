{
 "cells": [
  {
   "cell_type": "code",
   "execution_count": 261,
   "metadata": {},
   "outputs": [],
   "source": [
    "%run /home/jovyan/work/operations/spark_db_connection.ipynb import create_spark_session\n",
    "%run /home/jovyan/work/operations/logging_set.ipynb import set_logging\n",
    "%run /home/jovyan/work/ETL/process/extract.ipynb import extract_process\n",
    "%run /home/jovyan/work/ETL/process/transform.ipynb import transform_process"
   ]
  },
  {
   "cell_type": "code",
   "execution_count": 262,
   "metadata": {},
   "outputs": [],
   "source": [
    "import logging\n",
    "from typing import Dict, Type"
   ]
  },
  {
   "cell_type": "code",
   "execution_count": 263,
   "metadata": {},
   "outputs": [],
   "source": [
    "class ExtractionParamaters:\n",
    "    \"\"\"\n",
    "    Class for defining table names and data sources\n",
    "    \"\"\"\n",
    "    files: Dict[str, str] = {\"scorers\": \"/home/jovyan/work/dataset/goalscorers.csv\", \n",
    "                             \"results\": \"/home/jovyan/work/dataset/results.csv\", \n",
    "                             \"shootouts\": \"/home/jovyan/work/dataset/shootouts.csv\"}\n"
   ]
  },
  {
   "cell_type": "code",
   "execution_count": 264,
   "metadata": {},
   "outputs": [],
   "source": [
    "def ETL_pipeline(config: Type[ExtractionParamaters]):\n",
    "    try:\n",
    "        set_logging()\n",
    "        spark = create_spark_session()\n",
    "        scorers, results, shootouts = extract_process(spark=spark, files=config.files)\n",
    "        transform_process(spark, scorers, results, shootouts)\n",
    "    except Exception as e:\n",
    "        logging.error(f\"Error while executing ETL pipeline: {e}\")\n",
    "        raise e"
   ]
  },
  {
   "cell_type": "code",
   "execution_count": 265,
   "metadata": {},
   "outputs": [
    {
     "name": "stderr",
     "output_type": "stream",
     "text": [
      "Started the extraction process:\n",
      "Successfully ingested data from: ['/home/jovyan/work/dataset/goalscorers.csv']\n",
      "Successfully saved table: scorers\n",
      "Successfully ingested data from: ['/home/jovyan/work/dataset/results.csv']\n",
      "Successfully saved table: results\n",
      "Successfully ingested data from: ['/home/jovyan/work/dataset/shootouts.csv']\n",
      "Successfully saved table: shootouts\n",
      "Successfully loaded table: scorers\n",
      "Successfully loaded table: results\n",
      "Successfully loaded table: shootouts\n",
      "Finished the extraction process\n",
      "Started the transformation process:\n",
      "Error in SQL query (Fifa World Cup trophies): [NESTED_AGGREGATE_FUNCTION] It is not allowed to use an aggregate function in the argument of another aggregate function. Please use the inner aggregate function in a sub-query.; line 16 pos 50;\n",
      "'WithCTE\n",
      ":- CTERelationDef 489, false\n",
      ":  +- SubqueryAlias world_cup\n",
      ":     +- Project [date#19092, home_team#19093, away_team#19094, home_score#19095, away_score#19096, tournament#19097, city#19098, country#19099, neutral#19100, extract(YEAR, date#19092) AS year#19158]\n",
      ":        +- Filter (tournament#19097 = FIFA World Cup)\n",
      ":           +- SubqueryAlias results\n",
      ":              +- View (`results`, [date#19092,home_team#19093,away_team#19094,home_score#19095,away_score#19096,tournament#19097,city#19098,country#19099,neutral#19100])\n",
      ":                 +- Project [cast(date#19048 as date) AS date#19092, cast(home_team#19049 as string) AS home_team#19093, cast(away_team#19050 as string) AS away_team#19094, cast(home_score#19051 as int) AS home_score#19095, cast(away_score#19052 as int) AS away_score#19096, cast(tournament#19053 as string) AS tournament#19097, cast(city#19054 as string) AS city#19098, cast(country#19055 as string) AS country#19099, cast(neutral#19056 as boolean) AS neutral#19100]\n",
      ":                    +- Relation [date#19048,home_team#19049,away_team#19050,home_score#19051,away_score#19052,tournament#19053,city#19054,country#19055,neutral#19056] JDBCRelation(results) [numPartitions=1]\n",
      ":- CTERelationDef 490, false\n",
      ":  +- SubqueryAlias ranked_matches\n",
      ":     +- Project [date#19092, home_team#19093, away_team#19094, home_score#19095, away_score#19096, tournament#19097, city#19098, country#19099, neutral#19100, year#19158, match_rank#19159]\n",
      ":        +- Project [date#19092, home_team#19093, away_team#19094, home_score#19095, away_score#19096, tournament#19097, city#19098, country#19099, neutral#19100, year#19158, match_rank#19159, match_rank#19159]\n",
      ":           +- Window [row_number() windowspecdefinition(YEAR#19158, date#19092 DESC NULLS LAST, specifiedwindowframe(RowFrame, unboundedpreceding$(), currentrow$())) AS match_rank#19159], [YEAR#19158], [date#19092 DESC NULLS LAST]\n",
      ":              +- Project [date#19092, home_team#19093, away_team#19094, home_score#19095, away_score#19096, tournament#19097, city#19098, country#19099, neutral#19100, year#19158]\n",
      ":                 +- SubqueryAlias wc\n",
      ":                    +- SubqueryAlias world_cup\n",
      ":                       +- CTERelationRef 489, true, [date#19092, home_team#19093, away_team#19094, home_score#19095, away_score#19096, tournament#19097, city#19098, country#19099, neutral#19100, year#19158]\n",
      "+- 'UnresolvedHaving cast(CASE WHEN ('year IN (1930,1950) AND (games_in_final_date#19157L > cast(1 as bigint))) THEN ('match_rank <= 3) WHEN (NOT 'year IN (1930,1950) AND (games_in_final_date#19157L > cast(1 as bigint))) THEN ('match_rank <= 4) ELSE ('match_rank <= 1) END as boolean)\n",
      "   +- Aggregate [date#19092], [date#19092, count(max(date#19092)) AS games_in_final_date#19157L]\n",
      "      +- SubqueryAlias rm\n",
      "         +- SubqueryAlias ranked_matches\n",
      "            +- CTERelationRef 490, true, [date#19092, home_team#19093, away_team#19094, home_score#19095, away_score#19096, tournament#19097, city#19098, country#19099, neutral#19100, year#19158, match_rank#19159]\n",
      "\n",
      "Error in the transformation process: [NESTED_AGGREGATE_FUNCTION] It is not allowed to use an aggregate function in the argument of another aggregate function. Please use the inner aggregate function in a sub-query.; line 16 pos 50;\n",
      "'WithCTE\n",
      ":- CTERelationDef 489, false\n",
      ":  +- SubqueryAlias world_cup\n",
      ":     +- Project [date#19092, home_team#19093, away_team#19094, home_score#19095, away_score#19096, tournament#19097, city#19098, country#19099, neutral#19100, extract(YEAR, date#19092) AS year#19158]\n",
      ":        +- Filter (tournament#19097 = FIFA World Cup)\n",
      ":           +- SubqueryAlias results\n",
      ":              +- View (`results`, [date#19092,home_team#19093,away_team#19094,home_score#19095,away_score#19096,tournament#19097,city#19098,country#19099,neutral#19100])\n",
      ":                 +- Project [cast(date#19048 as date) AS date#19092, cast(home_team#19049 as string) AS home_team#19093, cast(away_team#19050 as string) AS away_team#19094, cast(home_score#19051 as int) AS home_score#19095, cast(away_score#19052 as int) AS away_score#19096, cast(tournament#19053 as string) AS tournament#19097, cast(city#19054 as string) AS city#19098, cast(country#19055 as string) AS country#19099, cast(neutral#19056 as boolean) AS neutral#19100]\n",
      ":                    +- Relation [date#19048,home_team#19049,away_team#19050,home_score#19051,away_score#19052,tournament#19053,city#19054,country#19055,neutral#19056] JDBCRelation(results) [numPartitions=1]\n",
      ":- CTERelationDef 490, false\n",
      ":  +- SubqueryAlias ranked_matches\n",
      ":     +- Project [date#19092, home_team#19093, away_team#19094, home_score#19095, away_score#19096, tournament#19097, city#19098, country#19099, neutral#19100, year#19158, match_rank#19159]\n",
      ":        +- Project [date#19092, home_team#19093, away_team#19094, home_score#19095, away_score#19096, tournament#19097, city#19098, country#19099, neutral#19100, year#19158, match_rank#19159, match_rank#19159]\n",
      ":           +- Window [row_number() windowspecdefinition(YEAR#19158, date#19092 DESC NULLS LAST, specifiedwindowframe(RowFrame, unboundedpreceding$(), currentrow$())) AS match_rank#19159], [YEAR#19158], [date#19092 DESC NULLS LAST]\n",
      ":              +- Project [date#19092, home_team#19093, away_team#19094, home_score#19095, away_score#19096, tournament#19097, city#19098, country#19099, neutral#19100, year#19158]\n",
      ":                 +- SubqueryAlias wc\n",
      ":                    +- SubqueryAlias world_cup\n",
      ":                       +- CTERelationRef 489, true, [date#19092, home_team#19093, away_team#19094, home_score#19095, away_score#19096, tournament#19097, city#19098, country#19099, neutral#19100, year#19158]\n",
      "+- 'UnresolvedHaving cast(CASE WHEN ('year IN (1930,1950) AND (games_in_final_date#19157L > cast(1 as bigint))) THEN ('match_rank <= 3) WHEN (NOT 'year IN (1930,1950) AND (games_in_final_date#19157L > cast(1 as bigint))) THEN ('match_rank <= 4) ELSE ('match_rank <= 1) END as boolean)\n",
      "   +- Aggregate [date#19092], [date#19092, count(max(date#19092)) AS games_in_final_date#19157L]\n",
      "      +- SubqueryAlias rm\n",
      "         +- SubqueryAlias ranked_matches\n",
      "            +- CTERelationRef 490, true, [date#19092, home_team#19093, away_team#19094, home_score#19095, away_score#19096, tournament#19097, city#19098, country#19099, neutral#19100, year#19158, match_rank#19159]\n",
      "\n",
      "Error while executing ETL pipeline: [NESTED_AGGREGATE_FUNCTION] It is not allowed to use an aggregate function in the argument of another aggregate function. Please use the inner aggregate function in a sub-query.; line 16 pos 50;\n",
      "'WithCTE\n",
      ":- CTERelationDef 489, false\n",
      ":  +- SubqueryAlias world_cup\n",
      ":     +- Project [date#19092, home_team#19093, away_team#19094, home_score#19095, away_score#19096, tournament#19097, city#19098, country#19099, neutral#19100, extract(YEAR, date#19092) AS year#19158]\n",
      ":        +- Filter (tournament#19097 = FIFA World Cup)\n",
      ":           +- SubqueryAlias results\n",
      ":              +- View (`results`, [date#19092,home_team#19093,away_team#19094,home_score#19095,away_score#19096,tournament#19097,city#19098,country#19099,neutral#19100])\n",
      ":                 +- Project [cast(date#19048 as date) AS date#19092, cast(home_team#19049 as string) AS home_team#19093, cast(away_team#19050 as string) AS away_team#19094, cast(home_score#19051 as int) AS home_score#19095, cast(away_score#19052 as int) AS away_score#19096, cast(tournament#19053 as string) AS tournament#19097, cast(city#19054 as string) AS city#19098, cast(country#19055 as string) AS country#19099, cast(neutral#19056 as boolean) AS neutral#19100]\n",
      ":                    +- Relation [date#19048,home_team#19049,away_team#19050,home_score#19051,away_score#19052,tournament#19053,city#19054,country#19055,neutral#19056] JDBCRelation(results) [numPartitions=1]\n",
      ":- CTERelationDef 490, false\n",
      ":  +- SubqueryAlias ranked_matches\n",
      ":     +- Project [date#19092, home_team#19093, away_team#19094, home_score#19095, away_score#19096, tournament#19097, city#19098, country#19099, neutral#19100, year#19158, match_rank#19159]\n",
      ":        +- Project [date#19092, home_team#19093, away_team#19094, home_score#19095, away_score#19096, tournament#19097, city#19098, country#19099, neutral#19100, year#19158, match_rank#19159, match_rank#19159]\n",
      ":           +- Window [row_number() windowspecdefinition(YEAR#19158, date#19092 DESC NULLS LAST, specifiedwindowframe(RowFrame, unboundedpreceding$(), currentrow$())) AS match_rank#19159], [YEAR#19158], [date#19092 DESC NULLS LAST]\n",
      ":              +- Project [date#19092, home_team#19093, away_team#19094, home_score#19095, away_score#19096, tournament#19097, city#19098, country#19099, neutral#19100, year#19158]\n",
      ":                 +- SubqueryAlias wc\n",
      ":                    +- SubqueryAlias world_cup\n",
      ":                       +- CTERelationRef 489, true, [date#19092, home_team#19093, away_team#19094, home_score#19095, away_score#19096, tournament#19097, city#19098, country#19099, neutral#19100, year#19158]\n",
      "+- 'UnresolvedHaving cast(CASE WHEN ('year IN (1930,1950) AND (games_in_final_date#19157L > cast(1 as bigint))) THEN ('match_rank <= 3) WHEN (NOT 'year IN (1930,1950) AND (games_in_final_date#19157L > cast(1 as bigint))) THEN ('match_rank <= 4) ELSE ('match_rank <= 1) END as boolean)\n",
      "   +- Aggregate [date#19092], [date#19092, count(max(date#19092)) AS games_in_final_date#19157L]\n",
      "      +- SubqueryAlias rm\n",
      "         +- SubqueryAlias ranked_matches\n",
      "            +- CTERelationRef 490, true, [date#19092, home_team#19093, away_team#19094, home_score#19095, away_score#19096, tournament#19097, city#19098, country#19099, neutral#19100, year#19158, match_rank#19159]\n",
      "\n"
     ]
    },
    {
     "ename": "AnalysisException",
     "evalue": "[NESTED_AGGREGATE_FUNCTION] It is not allowed to use an aggregate function in the argument of another aggregate function. Please use the inner aggregate function in a sub-query.; line 16 pos 50;\n'WithCTE\n:- CTERelationDef 489, false\n:  +- SubqueryAlias world_cup\n:     +- Project [date#19092, home_team#19093, away_team#19094, home_score#19095, away_score#19096, tournament#19097, city#19098, country#19099, neutral#19100, extract(YEAR, date#19092) AS year#19158]\n:        +- Filter (tournament#19097 = FIFA World Cup)\n:           +- SubqueryAlias results\n:              +- View (`results`, [date#19092,home_team#19093,away_team#19094,home_score#19095,away_score#19096,tournament#19097,city#19098,country#19099,neutral#19100])\n:                 +- Project [cast(date#19048 as date) AS date#19092, cast(home_team#19049 as string) AS home_team#19093, cast(away_team#19050 as string) AS away_team#19094, cast(home_score#19051 as int) AS home_score#19095, cast(away_score#19052 as int) AS away_score#19096, cast(tournament#19053 as string) AS tournament#19097, cast(city#19054 as string) AS city#19098, cast(country#19055 as string) AS country#19099, cast(neutral#19056 as boolean) AS neutral#19100]\n:                    +- Relation [date#19048,home_team#19049,away_team#19050,home_score#19051,away_score#19052,tournament#19053,city#19054,country#19055,neutral#19056] JDBCRelation(results) [numPartitions=1]\n:- CTERelationDef 490, false\n:  +- SubqueryAlias ranked_matches\n:     +- Project [date#19092, home_team#19093, away_team#19094, home_score#19095, away_score#19096, tournament#19097, city#19098, country#19099, neutral#19100, year#19158, match_rank#19159]\n:        +- Project [date#19092, home_team#19093, away_team#19094, home_score#19095, away_score#19096, tournament#19097, city#19098, country#19099, neutral#19100, year#19158, match_rank#19159, match_rank#19159]\n:           +- Window [row_number() windowspecdefinition(YEAR#19158, date#19092 DESC NULLS LAST, specifiedwindowframe(RowFrame, unboundedpreceding$(), currentrow$())) AS match_rank#19159], [YEAR#19158], [date#19092 DESC NULLS LAST]\n:              +- Project [date#19092, home_team#19093, away_team#19094, home_score#19095, away_score#19096, tournament#19097, city#19098, country#19099, neutral#19100, year#19158]\n:                 +- SubqueryAlias wc\n:                    +- SubqueryAlias world_cup\n:                       +- CTERelationRef 489, true, [date#19092, home_team#19093, away_team#19094, home_score#19095, away_score#19096, tournament#19097, city#19098, country#19099, neutral#19100, year#19158]\n+- 'UnresolvedHaving cast(CASE WHEN ('year IN (1930,1950) AND (games_in_final_date#19157L > cast(1 as bigint))) THEN ('match_rank <= 3) WHEN (NOT 'year IN (1930,1950) AND (games_in_final_date#19157L > cast(1 as bigint))) THEN ('match_rank <= 4) ELSE ('match_rank <= 1) END as boolean)\n   +- Aggregate [date#19092], [date#19092, count(max(date#19092)) AS games_in_final_date#19157L]\n      +- SubqueryAlias rm\n         +- SubqueryAlias ranked_matches\n            +- CTERelationRef 490, true, [date#19092, home_team#19093, away_team#19094, home_score#19095, away_score#19096, tournament#19097, city#19098, country#19099, neutral#19100, year#19158, match_rank#19159]\n",
     "output_type": "error",
     "traceback": [
      "\u001b[0;31m---------------------------------------------------------------------------\u001b[0m",
      "\u001b[0;31mAnalysisException\u001b[0m                         Traceback (most recent call last)",
      "Cell \u001b[0;32mIn[265], line 1\u001b[0m\n\u001b[0;32m----> 1\u001b[0m \u001b[43mETL_pipeline\u001b[49m\u001b[43m(\u001b[49m\u001b[43mExtractionParamaters\u001b[49m\u001b[43m)\u001b[49m\n",
      "Cell \u001b[0;32mIn[264], line 9\u001b[0m, in \u001b[0;36mETL_pipeline\u001b[0;34m(config)\u001b[0m\n\u001b[1;32m      7\u001b[0m \u001b[38;5;28;01mexcept\u001b[39;00m \u001b[38;5;167;01mException\u001b[39;00m \u001b[38;5;28;01mas\u001b[39;00m e:\n\u001b[1;32m      8\u001b[0m     logging\u001b[38;5;241m.\u001b[39merror(\u001b[38;5;124mf\u001b[39m\u001b[38;5;124m\"\u001b[39m\u001b[38;5;124mError while executing ETL pipeline: \u001b[39m\u001b[38;5;132;01m{\u001b[39;00me\u001b[38;5;132;01m}\u001b[39;00m\u001b[38;5;124m\"\u001b[39m)\n\u001b[0;32m----> 9\u001b[0m     \u001b[38;5;28;01mraise\u001b[39;00m e\n",
      "Cell \u001b[0;32mIn[264], line 6\u001b[0m, in \u001b[0;36mETL_pipeline\u001b[0;34m(config)\u001b[0m\n\u001b[1;32m      4\u001b[0m     spark \u001b[38;5;241m=\u001b[39m create_spark_session()\n\u001b[1;32m      5\u001b[0m     scorers, results, shootouts \u001b[38;5;241m=\u001b[39m extract_process(spark\u001b[38;5;241m=\u001b[39mspark, files\u001b[38;5;241m=\u001b[39mconfig\u001b[38;5;241m.\u001b[39mfiles)\n\u001b[0;32m----> 6\u001b[0m     \u001b[43mtransform_process\u001b[49m\u001b[43m(\u001b[49m\u001b[43mspark\u001b[49m\u001b[43m,\u001b[49m\u001b[43m \u001b[49m\u001b[43mscorers\u001b[49m\u001b[43m,\u001b[49m\u001b[43m \u001b[49m\u001b[43mresults\u001b[49m\u001b[43m,\u001b[49m\u001b[43m \u001b[49m\u001b[43mshootouts\u001b[49m\u001b[43m)\u001b[49m\n\u001b[1;32m      7\u001b[0m \u001b[38;5;28;01mexcept\u001b[39;00m \u001b[38;5;167;01mException\u001b[39;00m \u001b[38;5;28;01mas\u001b[39;00m e:\n\u001b[1;32m      8\u001b[0m     logging\u001b[38;5;241m.\u001b[39merror(\u001b[38;5;124mf\u001b[39m\u001b[38;5;124m\"\u001b[39m\u001b[38;5;124mError while executing ETL pipeline: \u001b[39m\u001b[38;5;132;01m{\u001b[39;00me\u001b[38;5;132;01m}\u001b[39;00m\u001b[38;5;124m\"\u001b[39m)\n",
      "File \u001b[0;32m/tmp/ipykernel_1412/1935401477.py:22\u001b[0m, in \u001b[0;36mtransform_process\u001b[0;34m(spark, scorers, results, shootouts)\u001b[0m\n\u001b[1;32m     20\u001b[0m \u001b[38;5;28;01mexcept\u001b[39;00m \u001b[38;5;167;01mException\u001b[39;00m \u001b[38;5;28;01mas\u001b[39;00m e:\n\u001b[1;32m     21\u001b[0m     logging\u001b[38;5;241m.\u001b[39merror(\u001b[38;5;124mf\u001b[39m\u001b[38;5;124m\"\u001b[39m\u001b[38;5;124mError in the transformation process: \u001b[39m\u001b[38;5;132;01m{\u001b[39;00me\u001b[38;5;132;01m}\u001b[39;00m\u001b[38;5;124m\"\u001b[39m)\n\u001b[0;32m---> 22\u001b[0m     \u001b[38;5;28;01mraise\u001b[39;00m e\n",
      "File \u001b[0;32m/tmp/ipykernel_1412/1935401477.py:16\u001b[0m, in \u001b[0;36mtransform_process\u001b[0;34m(spark, scorers, results, shootouts)\u001b[0m\n\u001b[1;32m     14\u001b[0m best_win_ratio \u001b[38;5;241m=\u001b[39m BestWinRatio()\u001b[38;5;241m.\u001b[39mquery(spark, results)\n\u001b[1;32m     15\u001b[0m best_scorer \u001b[38;5;241m=\u001b[39m BestScorer()\u001b[38;5;241m.\u001b[39mquery(spark, scorers)\n\u001b[0;32m---> 16\u001b[0m world_cup \u001b[38;5;241m=\u001b[39m \u001b[43mWorldCupWinner\u001b[49m\u001b[43m(\u001b[49m\u001b[43m)\u001b[49m\u001b[38;5;241;43m.\u001b[39;49m\u001b[43mquery\u001b[49m\u001b[43m(\u001b[49m\u001b[43mspark\u001b[49m\u001b[43m,\u001b[49m\u001b[43m \u001b[49m\u001b[43mresults\u001b[49m\u001b[43m)\u001b[49m\n\u001b[1;32m     17\u001b[0m world_cup\u001b[38;5;241m.\u001b[39mshow()\n\u001b[1;32m     18\u001b[0m logging\u001b[38;5;241m.\u001b[39minfo(\u001b[38;5;124m\"\u001b[39m\u001b[38;5;124mFinished the transformation process\u001b[39m\u001b[38;5;124m\"\u001b[39m)\n",
      "File \u001b[0;32m/tmp/ipykernel_1412/1138260410.py:108\u001b[0m, in \u001b[0;36mWorldCupWinner.query\u001b[0;34m(self, spark, df)\u001b[0m\n\u001b[1;32m    106\u001b[0m \u001b[38;5;28;01mexcept\u001b[39;00m \u001b[38;5;167;01mException\u001b[39;00m \u001b[38;5;28;01mas\u001b[39;00m e:\n\u001b[1;32m    107\u001b[0m     logging\u001b[38;5;241m.\u001b[39merror(\u001b[38;5;124mf\u001b[39m\u001b[38;5;124m\"\u001b[39m\u001b[38;5;124mError in SQL query (Fifa World Cup trophies): \u001b[39m\u001b[38;5;132;01m{\u001b[39;00me\u001b[38;5;132;01m}\u001b[39;00m\u001b[38;5;124m\"\u001b[39m)\n\u001b[0;32m--> 108\u001b[0m     \u001b[38;5;28;01mraise\u001b[39;00m e\n",
      "File \u001b[0;32m/tmp/ipykernel_1412/1138260410.py:76\u001b[0m, in \u001b[0;36mWorldCupWinner.query\u001b[0;34m(self, spark, df)\u001b[0m\n\u001b[1;32m     10\u001b[0m     df\u001b[38;5;241m.\u001b[39mcreateOrReplaceTempView(\u001b[38;5;124m\"\u001b[39m\u001b[38;5;124mresults\u001b[39m\u001b[38;5;124m\"\u001b[39m)\n\u001b[1;32m     12\u001b[0m     \u001b[38;5;66;03m# query_result = spark.sql(\"\"\"\u001b[39;00m\n\u001b[1;32m     13\u001b[0m     \u001b[38;5;66;03m#                          WITH world_cup AS (\u001b[39;00m\n\u001b[1;32m     14\u001b[0m     \u001b[38;5;66;03m#                             SELECT *,\u001b[39;00m\n\u001b[0;32m   (...)\u001b[0m\n\u001b[1;32m     72\u001b[0m     \u001b[38;5;66;03m#                          ;\u001b[39;00m\n\u001b[1;32m     73\u001b[0m     \u001b[38;5;66;03m#                          \"\"\")\u001b[39;00m\n\u001b[0;32m---> 76\u001b[0m     query_result \u001b[38;5;241m=\u001b[39m \u001b[43mspark\u001b[49m\u001b[38;5;241;43m.\u001b[39;49m\u001b[43msql\u001b[49m\u001b[43m(\u001b[49m\u001b[38;5;124;43m\"\"\"\u001b[39;49m\n\u001b[1;32m     77\u001b[0m \u001b[38;5;124;43m                             WITH world_cup AS (\u001b[39;49m\n\u001b[1;32m     78\u001b[0m \u001b[38;5;124;43m                                SELECT *,\u001b[39;49m\n\u001b[1;32m     79\u001b[0m \u001b[38;5;124;43m                                    EXTRACT(YEAR FROM date) AS year\u001b[39;49m\n\u001b[1;32m     80\u001b[0m \u001b[38;5;124;43m                                FROM results\u001b[39;49m\n\u001b[1;32m     81\u001b[0m \u001b[38;5;124;43m                                WHERE tournament = \u001b[39;49m\u001b[38;5;124;43m'\u001b[39;49m\u001b[38;5;124;43mFIFA World Cup\u001b[39;49m\u001b[38;5;124;43m'\u001b[39;49m\n\u001b[1;32m     82\u001b[0m \u001b[38;5;124;43m                             ),\u001b[39;49m\n\u001b[1;32m     83\u001b[0m \u001b[38;5;124;43m                             \u001b[39;49m\n\u001b[1;32m     84\u001b[0m \u001b[38;5;124;43m                             ranked_matches AS (\u001b[39;49m\n\u001b[1;32m     85\u001b[0m \u001b[38;5;124;43m                                SELECT wc.*,\u001b[39;49m\n\u001b[1;32m     86\u001b[0m \u001b[38;5;124;43m                                    ROW_NUMBER() OVER  (PARTITION BY YEAR ORDER BY date DESC) AS match_rank\u001b[39;49m\n\u001b[1;32m     87\u001b[0m \u001b[38;5;124;43m                                FROM world_cup wc\u001b[39;49m\n\u001b[1;32m     88\u001b[0m \u001b[38;5;124;43m                             )\u001b[39;49m\n\u001b[1;32m     89\u001b[0m \n\u001b[1;32m     90\u001b[0m \u001b[38;5;124;43m                                SELECT rm.date,\u001b[39;49m\n\u001b[1;32m     91\u001b[0m \u001b[38;5;124;43m                                    COUNT(MAX(rm.date)) AS games_in_final_date\u001b[39;49m\n\u001b[1;32m     92\u001b[0m \u001b[38;5;124;43m                                FROM ranked_matches rm\u001b[39;49m\n\u001b[1;32m     93\u001b[0m \u001b[38;5;124;43m                                GROUP BY rm.date\u001b[39;49m\n\u001b[1;32m     94\u001b[0m \u001b[38;5;124;43m                                HAVING CASE \u001b[39;49m\n\u001b[1;32m     95\u001b[0m \u001b[38;5;124;43m                                        WHEN year IN (1930, 1950) AND COUNT(MAX(rm.date)) > 1 THEN match_rank <= 3\u001b[39;49m\n\u001b[1;32m     96\u001b[0m \u001b[38;5;124;43m                                        WHEN year NOT IN (1930, 1950) AND COUNT(MAX(rm.date)) >  1 THEN match_rank <= 4\u001b[39;49m\n\u001b[1;32m     97\u001b[0m \u001b[38;5;124;43m                                        ELSE match_rank <= 1\u001b[39;49m\n\u001b[1;32m     98\u001b[0m \u001b[38;5;124;43m                                    END\u001b[39;49m\n\u001b[1;32m     99\u001b[0m \u001b[38;5;124;43m                             ;\u001b[39;49m\n\u001b[1;32m    100\u001b[0m \u001b[38;5;124;43m                                                                  \u001b[39;49m\u001b[38;5;124;43m\"\"\"\u001b[39;49m\u001b[43m)\u001b[49m\n\u001b[1;32m    105\u001b[0m     \u001b[38;5;28;01mreturn\u001b[39;00m query_result\n\u001b[1;32m    106\u001b[0m \u001b[38;5;28;01mexcept\u001b[39;00m \u001b[38;5;167;01mException\u001b[39;00m \u001b[38;5;28;01mas\u001b[39;00m e:\n",
      "File \u001b[0;32m/usr/local/spark/python/pyspark/sql/session.py:1631\u001b[0m, in \u001b[0;36mSparkSession.sql\u001b[0;34m(self, sqlQuery, args, **kwargs)\u001b[0m\n\u001b[1;32m   1627\u001b[0m         \u001b[38;5;28;01massert\u001b[39;00m \u001b[38;5;28mself\u001b[39m\u001b[38;5;241m.\u001b[39m_jvm \u001b[38;5;129;01mis\u001b[39;00m \u001b[38;5;129;01mnot\u001b[39;00m \u001b[38;5;28;01mNone\u001b[39;00m\n\u001b[1;32m   1628\u001b[0m         litArgs \u001b[38;5;241m=\u001b[39m \u001b[38;5;28mself\u001b[39m\u001b[38;5;241m.\u001b[39m_jvm\u001b[38;5;241m.\u001b[39mPythonUtils\u001b[38;5;241m.\u001b[39mtoArray(\n\u001b[1;32m   1629\u001b[0m             [_to_java_column(lit(v)) \u001b[38;5;28;01mfor\u001b[39;00m v \u001b[38;5;129;01min\u001b[39;00m (args \u001b[38;5;129;01mor\u001b[39;00m [])]\n\u001b[1;32m   1630\u001b[0m         )\n\u001b[0;32m-> 1631\u001b[0m     \u001b[38;5;28;01mreturn\u001b[39;00m DataFrame(\u001b[38;5;28;43mself\u001b[39;49m\u001b[38;5;241;43m.\u001b[39;49m\u001b[43m_jsparkSession\u001b[49m\u001b[38;5;241;43m.\u001b[39;49m\u001b[43msql\u001b[49m\u001b[43m(\u001b[49m\u001b[43msqlQuery\u001b[49m\u001b[43m,\u001b[49m\u001b[43m \u001b[49m\u001b[43mlitArgs\u001b[49m\u001b[43m)\u001b[49m, \u001b[38;5;28mself\u001b[39m)\n\u001b[1;32m   1632\u001b[0m \u001b[38;5;28;01mfinally\u001b[39;00m:\n\u001b[1;32m   1633\u001b[0m     \u001b[38;5;28;01mif\u001b[39;00m \u001b[38;5;28mlen\u001b[39m(kwargs) \u001b[38;5;241m>\u001b[39m \u001b[38;5;241m0\u001b[39m:\n",
      "File \u001b[0;32m/usr/local/spark/python/lib/py4j-0.10.9.7-src.zip/py4j/java_gateway.py:1322\u001b[0m, in \u001b[0;36mJavaMember.__call__\u001b[0;34m(self, *args)\u001b[0m\n\u001b[1;32m   1316\u001b[0m command \u001b[38;5;241m=\u001b[39m proto\u001b[38;5;241m.\u001b[39mCALL_COMMAND_NAME \u001b[38;5;241m+\u001b[39m\\\n\u001b[1;32m   1317\u001b[0m     \u001b[38;5;28mself\u001b[39m\u001b[38;5;241m.\u001b[39mcommand_header \u001b[38;5;241m+\u001b[39m\\\n\u001b[1;32m   1318\u001b[0m     args_command \u001b[38;5;241m+\u001b[39m\\\n\u001b[1;32m   1319\u001b[0m     proto\u001b[38;5;241m.\u001b[39mEND_COMMAND_PART\n\u001b[1;32m   1321\u001b[0m answer \u001b[38;5;241m=\u001b[39m \u001b[38;5;28mself\u001b[39m\u001b[38;5;241m.\u001b[39mgateway_client\u001b[38;5;241m.\u001b[39msend_command(command)\n\u001b[0;32m-> 1322\u001b[0m return_value \u001b[38;5;241m=\u001b[39m \u001b[43mget_return_value\u001b[49m\u001b[43m(\u001b[49m\n\u001b[1;32m   1323\u001b[0m \u001b[43m    \u001b[49m\u001b[43manswer\u001b[49m\u001b[43m,\u001b[49m\u001b[43m \u001b[49m\u001b[38;5;28;43mself\u001b[39;49m\u001b[38;5;241;43m.\u001b[39;49m\u001b[43mgateway_client\u001b[49m\u001b[43m,\u001b[49m\u001b[43m \u001b[49m\u001b[38;5;28;43mself\u001b[39;49m\u001b[38;5;241;43m.\u001b[39;49m\u001b[43mtarget_id\u001b[49m\u001b[43m,\u001b[49m\u001b[43m \u001b[49m\u001b[38;5;28;43mself\u001b[39;49m\u001b[38;5;241;43m.\u001b[39;49m\u001b[43mname\u001b[49m\u001b[43m)\u001b[49m\n\u001b[1;32m   1325\u001b[0m \u001b[38;5;28;01mfor\u001b[39;00m temp_arg \u001b[38;5;129;01min\u001b[39;00m temp_args:\n\u001b[1;32m   1326\u001b[0m     \u001b[38;5;28;01mif\u001b[39;00m \u001b[38;5;28mhasattr\u001b[39m(temp_arg, \u001b[38;5;124m\"\u001b[39m\u001b[38;5;124m_detach\u001b[39m\u001b[38;5;124m\"\u001b[39m):\n",
      "File \u001b[0;32m/usr/local/spark/python/pyspark/errors/exceptions/captured.py:185\u001b[0m, in \u001b[0;36mcapture_sql_exception.<locals>.deco\u001b[0;34m(*a, **kw)\u001b[0m\n\u001b[1;32m    181\u001b[0m converted \u001b[38;5;241m=\u001b[39m convert_exception(e\u001b[38;5;241m.\u001b[39mjava_exception)\n\u001b[1;32m    182\u001b[0m \u001b[38;5;28;01mif\u001b[39;00m \u001b[38;5;129;01mnot\u001b[39;00m \u001b[38;5;28misinstance\u001b[39m(converted, UnknownException):\n\u001b[1;32m    183\u001b[0m     \u001b[38;5;66;03m# Hide where the exception came from that shows a non-Pythonic\u001b[39;00m\n\u001b[1;32m    184\u001b[0m     \u001b[38;5;66;03m# JVM exception message.\u001b[39;00m\n\u001b[0;32m--> 185\u001b[0m     \u001b[38;5;28;01mraise\u001b[39;00m converted \u001b[38;5;28;01mfrom\u001b[39;00m \u001b[38;5;28;01mNone\u001b[39;00m\n\u001b[1;32m    186\u001b[0m \u001b[38;5;28;01melse\u001b[39;00m:\n\u001b[1;32m    187\u001b[0m     \u001b[38;5;28;01mraise\u001b[39;00m\n",
      "\u001b[0;31mAnalysisException\u001b[0m: [NESTED_AGGREGATE_FUNCTION] It is not allowed to use an aggregate function in the argument of another aggregate function. Please use the inner aggregate function in a sub-query.; line 16 pos 50;\n'WithCTE\n:- CTERelationDef 489, false\n:  +- SubqueryAlias world_cup\n:     +- Project [date#19092, home_team#19093, away_team#19094, home_score#19095, away_score#19096, tournament#19097, city#19098, country#19099, neutral#19100, extract(YEAR, date#19092) AS year#19158]\n:        +- Filter (tournament#19097 = FIFA World Cup)\n:           +- SubqueryAlias results\n:              +- View (`results`, [date#19092,home_team#19093,away_team#19094,home_score#19095,away_score#19096,tournament#19097,city#19098,country#19099,neutral#19100])\n:                 +- Project [cast(date#19048 as date) AS date#19092, cast(home_team#19049 as string) AS home_team#19093, cast(away_team#19050 as string) AS away_team#19094, cast(home_score#19051 as int) AS home_score#19095, cast(away_score#19052 as int) AS away_score#19096, cast(tournament#19053 as string) AS tournament#19097, cast(city#19054 as string) AS city#19098, cast(country#19055 as string) AS country#19099, cast(neutral#19056 as boolean) AS neutral#19100]\n:                    +- Relation [date#19048,home_team#19049,away_team#19050,home_score#19051,away_score#19052,tournament#19053,city#19054,country#19055,neutral#19056] JDBCRelation(results) [numPartitions=1]\n:- CTERelationDef 490, false\n:  +- SubqueryAlias ranked_matches\n:     +- Project [date#19092, home_team#19093, away_team#19094, home_score#19095, away_score#19096, tournament#19097, city#19098, country#19099, neutral#19100, year#19158, match_rank#19159]\n:        +- Project [date#19092, home_team#19093, away_team#19094, home_score#19095, away_score#19096, tournament#19097, city#19098, country#19099, neutral#19100, year#19158, match_rank#19159, match_rank#19159]\n:           +- Window [row_number() windowspecdefinition(YEAR#19158, date#19092 DESC NULLS LAST, specifiedwindowframe(RowFrame, unboundedpreceding$(), currentrow$())) AS match_rank#19159], [YEAR#19158], [date#19092 DESC NULLS LAST]\n:              +- Project [date#19092, home_team#19093, away_team#19094, home_score#19095, away_score#19096, tournament#19097, city#19098, country#19099, neutral#19100, year#19158]\n:                 +- SubqueryAlias wc\n:                    +- SubqueryAlias world_cup\n:                       +- CTERelationRef 489, true, [date#19092, home_team#19093, away_team#19094, home_score#19095, away_score#19096, tournament#19097, city#19098, country#19099, neutral#19100, year#19158]\n+- 'UnresolvedHaving cast(CASE WHEN ('year IN (1930,1950) AND (games_in_final_date#19157L > cast(1 as bigint))) THEN ('match_rank <= 3) WHEN (NOT 'year IN (1930,1950) AND (games_in_final_date#19157L > cast(1 as bigint))) THEN ('match_rank <= 4) ELSE ('match_rank <= 1) END as boolean)\n   +- Aggregate [date#19092], [date#19092, count(max(date#19092)) AS games_in_final_date#19157L]\n      +- SubqueryAlias rm\n         +- SubqueryAlias ranked_matches\n            +- CTERelationRef 490, true, [date#19092, home_team#19093, away_team#19094, home_score#19095, away_score#19096, tournament#19097, city#19098, country#19099, neutral#19100, year#19158, match_rank#19159]\n"
     ]
    }
   ],
   "source": [
    "ETL_pipeline(ExtractionParamaters)"
   ]
  }
 ],
 "metadata": {
  "kernelspec": {
   "display_name": "Python 3 (ipykernel)",
   "language": "python",
   "name": "python3"
  },
  "language_info": {
   "codemirror_mode": {
    "name": "ipython",
    "version": 3
   },
   "file_extension": ".py",
   "mimetype": "text/x-python",
   "name": "python",
   "nbconvert_exporter": "python",
   "pygments_lexer": "ipython3",
   "version": "3.11.6"
  }
 },
 "nbformat": 4,
 "nbformat_minor": 2
}
