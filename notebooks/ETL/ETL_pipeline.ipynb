{
 "cells": [
  {
   "cell_type": "code",
   "execution_count": 21,
   "metadata": {},
   "outputs": [],
   "source": [
    "%run /home/jovyan/work/operations/logging_set.ipynb import set_logging\n",
    "%run /home/jovyan/work/ETL/process/extract.ipynb import extract_process\n",
    "%run /home/jovyan/work/ETL/process/transform.ipynb import transform_process\n",
    "%run /home/jovyan/work/ETL/process/load.ipynb import load_process"
   ]
  },
  {
   "cell_type": "code",
   "execution_count": 22,
   "metadata": {},
   "outputs": [],
   "source": [
    "import logging\n",
    "from typing import Dict, Type\n",
    "from pyspark.sql import SparkSession"
   ]
  },
  {
   "cell_type": "code",
   "execution_count": 23,
   "metadata": {},
   "outputs": [],
   "source": [
    "class ExtractionParamaters:\n",
    "    \"\"\"\n",
    "    Class for defining table names and data sources\n",
    "    \"\"\"\n",
    "    files: Dict[str, str] = {\"scorers\": \"/home/jovyan/work/dataset/goalscorers.csv\", \n",
    "                             \"results\": \"/home/jovyan/work/dataset/results.csv\", \n",
    "                             \"shootouts\": \"/home/jovyan/work/dataset/shootouts.csv\"}\n"
   ]
  },
  {
   "cell_type": "code",
   "execution_count": 24,
   "metadata": {},
   "outputs": [],
   "source": [
    "def ETL_pipeline(spark: SparkSession, config: Type[ExtractionParamaters]):\n",
    "    try:\n",
    "        logging.info(\"Started ETL pipeline\")\n",
    "        set_logging()\n",
    "        scorers, results, shootouts = extract_process(spark=spark, files=config.files)\n",
    "        transformed_tables = transform_process(spark, scorers, results, shootouts)\n",
    "        load_process(spark, transformed_tables)\n",
    "        logging.info(\"\\nSuccessfully finished ETL pipeline\\n\")\n",
    "    except Exception as e:\n",
    "        logging.error(f\"Error while executing ETL pipeline: {e}\")\n",
    "        raise e"
   ]
  }
 ],
 "metadata": {
  "kernelspec": {
   "display_name": "Python 3 (ipykernel)",
   "language": "python",
   "name": "python3"
  },
  "language_info": {
   "codemirror_mode": {
    "name": "ipython",
    "version": 3
   },
   "file_extension": ".py",
   "mimetype": "text/x-python",
   "name": "python",
   "nbconvert_exporter": "python",
   "pygments_lexer": "ipython3",
   "version": "3.11.6"
  }
 },
 "nbformat": 4,
 "nbformat_minor": 2
}
