{
 "cells": [
  {
   "cell_type": "code",
   "execution_count": null,
   "id": "1d079d16-39f5-4cc6-8ea1-1c8402c94d7d",
   "metadata": {},
   "outputs": [],
   "source": [
    "%run /home/jovyan/work/database_operations/db_operations.ipynb import DataOperations\n",
    "%run /home/jovyan/work/ETL/data_extraction.ipynb import ExtractionParamaters\n",
    "%run /home/jovyan/work/src/transform_data_types.ipynb import assign_data_type\n",
    "%run /home/jovyan/work/src/load_data.ipynb import load_raw_data\n"
   ]
  },
  {
   "cell_type": "code",
   "execution_count": null,
   "id": "05663bef-3acb-43f9-80a9-3afa727b7923",
   "metadata": {},
   "outputs": [],
   "source": [
    "spark = create_spark_session()\n",
    "data_operations = DataOperations(spark)"
   ]
  },
  {
   "cell_type": "code",
   "execution_count": null,
   "id": "f4ef42b3-710c-4283-8397-220f927064ac",
   "metadata": {},
   "outputs": [],
   "source": [
    "scorers, results, shootouts = load_raw_data()\n",
    "scorers, results, shootouts = assign_data_type(scorers, results, shootouts)\n",
    "# scorers.show()\n",
    "# shootouts.show()\n",
    "results.show()"
   ]
  },
  {
   "cell_type": "code",
   "execution_count": null,
   "id": "50bd982f-f5cd-44c4-99e3-2ea33b58de59",
   "metadata": {},
   "outputs": [],
   "source": [
    "# print(scorers.count())\n",
    "print(results.count())\n",
    "# shootouts.count()\n",
    "results.show()"
   ]
  },
  {
   "cell_type": "code",
   "execution_count": null,
   "id": "c29dcba6-46bd-4b61-b5d9-faf007e5a2e8",
   "metadata": {},
   "outputs": [],
   "source": [
    "scorers.createOrReplaceTempView(\"scorers\")\n",
    "results.createOrReplaceTempView(\"results\")\n",
    "shootouts.createOrReplaceTempView(\"shootouts\")\n",
    "\"\"\"\n",
    "    WITH query_result AS (\n",
    "        WITH goal_counts AS (                        \n",
    "            SELECT date, home_team, away_team,\n",
    "                SUM(CASE WHEN home_team = team THEN 1 ELSE 0 END) AS home_score,\n",
    "                SUM(CASE WHEN away_team = team then 1 ELSE 0 END) AS away_score\n",
    "            FROM scorers\n",
    "            GROUP BY date, home_team, away_team\n",
    "    )\n",
    "        SELECT date, home_team, away_team, home_score, away_score,\n",
    "            CASE\n",
    "                WHEN home_score > away_score THEN home_team\n",
    "                WHEN home_score < away_score THEN away_team\n",
    "                ELSE 'draw'\n",
    "            END AS winner\n",
    "        FROM goal_counts\n",
    "        ORDER BY date ASC\n",
    "        )\n",
    "    SELECT s.date, s.home_team, s.away_team, s.home_score, s.away_score, q.date, q.home_score, q.away_score, q.home_team, q.away_team\n",
    "    FROM results s\n",
    "    JOIN query_result q ON s.date = q.date AND s.home_score = q.home_score AND s.away_score = q.away_score AND s.home_team = q.home_team AND s.away_team = q.away_team\n",
    "    ORDER BY s.date ASC\n",
    "\"\"\"\n",
    "query_result = spark.sql(\"\"\"\n",
    "    (WITH goal_counts AS (                        \n",
    "        SELECT date, home_team, away_team,\n",
    "            SUM(CASE WHEN home_team = team THEN 1 ELSE 0 END) AS home_score,\n",
    "            SUM(CASE WHEN away_team = team then 1 ELSE 0 END) AS away_score\n",
    "        FROM scorers\n",
    "        GROUP BY date, home_team, away_team\n",
    ")\n",
    "    SELECT date, home_team, away_team, home_score, away_score,\n",
    "        CASE\n",
    "            WHEN home_score > away_score THEN home_team\n",
    "            WHEN home_score < away_score THEN away_team\n",
    "            ELSE 'draw'\n",
    "        END AS winner\n",
    "    FROM goal_counts\n",
    "    ORDER BY date ASC)\n",
    "\"\"\")\n",
    "query_result.count()\n"
   ]
  },
  {
   "cell_type": "code",
   "execution_count": null,
   "id": "8729173a",
   "metadata": {},
   "outputs": [],
   "source": [
    "result = spark.sql(\"\"\"\n",
    "SELECT s.date, s.home_team, s.away_team, s.home_score, s.away_score, q.date, q.home_team, q.away_team, q.home_score, q.away_score \n",
    "FROM results s\n",
    "JOIN query_result q ON s.date = q.date AND s.home_score = q.home_score AND s.away_score = q.away_score AND s.home_team = q.home_team AND s.away_team = q.away_team\n",
    "ORDER BY s.date ASC\n",
    "\"\"\")\n",
    "result.count()"
   ]
  },
  {
   "cell_type": "code",
   "execution_count": null,
   "id": "c35f92f3",
   "metadata": {},
   "outputs": [],
   "source": [
    "result_2 = spark.sql(\"\"\"\n",
    "                   WITH results_2 AS (\n",
    "                     SELECT date, home_team, away_team, home_score, away_score,\n",
    "            CASE\n",
    "                WHEN home_score > away_score THEN home_team\n",
    "                WHEN home_score < away_score THEN away_team\n",
    "                ELSE 'draw'\n",
    "            END AS winner\n",
    "        FROM results\n",
    "        ORDER BY date ASC\n",
    "                     )\n",
    "SELECT s.date, s.home_team, s.away_team, s.home_score, s.away_score, q.date, q.home_team, q.away_team\n",
    "FROM results_2 s\n",
    "JOIN shootouts q ON s.date = q.date AND s.home_team = q.home_team AND s.away_team = q.away_team AND s.winner = q.winner\n",
    "ORDER BY s.date ASC\n",
    "                   \"\"\")\n",
    "result_2.show()"
   ]
  }
 ],
 "metadata": {
  "kernelspec": {
   "display_name": "Python 3 (ipykernel)",
   "language": "python",
   "name": "python3"
  },
  "language_info": {
   "codemirror_mode": {
    "name": "ipython",
    "version": 3
   },
   "file_extension": ".py",
   "mimetype": "text/x-python",
   "name": "python",
   "nbconvert_exporter": "python",
   "pygments_lexer": "ipython3",
   "version": "3.11.6"
  }
 },
 "nbformat": 4,
 "nbformat_minor": 5
}
