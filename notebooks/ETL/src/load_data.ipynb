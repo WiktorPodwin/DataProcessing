{
 "cells": [
  {
   "cell_type": "code",
   "execution_count": null,
   "id": "448a554c",
   "metadata": {},
   "outputs": [],
   "source": [
    "%run /home/jovyan/work/operations/db_operations.ipynb import DataOperations"
   ]
  },
  {
   "cell_type": "code",
   "execution_count": null,
   "id": "ecb2c7ad",
   "metadata": {},
   "outputs": [],
   "source": [
    "from pyspark.sql import SparkSession, DataFrame\n",
    "import logging"
   ]
  },
  {
   "cell_type": "code",
   "execution_count": 4,
   "id": "02b43e8e-84b5-43f1-b4db-748dc7345c97",
   "metadata": {},
   "outputs": [],
   "source": [
    "class LoadData:\n",
    "    \"\"\"\n",
    "    Class for loading data\n",
    "    \"\"\"\n",
    "    def __init__(self, spark: SparkSession) -> None:\n",
    "        \"\"\"\n",
    "        Args:\n",
    "            spark: Active SparkSession\n",
    "        \"\"\"\n",
    "        self.data_operations = DataOperations(spark)\n",
    "\n",
    "    def load_from_database(self, table_name: str) -> DataFrame:\n",
    "        \"\"\"\n",
    "        Loads table from database\n",
    "\n",
    "        Args:\n",
    "            table_name: Name of the table to load \n",
    "        Returns:\n",
    "            DataFrame: Loaded table as DataFrame\n",
    "        \"\"\"\n",
    "        try:\n",
    "            loaded_table = self.data_operations.load_data(table_name)\n",
    "            return loaded_table\n",
    "        except Exception as e:\n",
    "            logging.error(f\"Error while loading data from database: {e}\")\n",
    "            raise e\n",
    "    \n",
    "    def load_to_database(self, df: DataFrame, table_name: str) -> None:\n",
    "        \"\"\"\n",
    "        Loads table from database\n",
    "        \n",
    "        Args:\n",
    "            df: Data to load\n",
    "            table_name: Name of the table storing data in database\n",
    "        \"\"\"\n",
    "        try:\n",
    "            self.data_operations.save_data(df, table_name)\n",
    "        except Exception as e:\n",
    "            logging.error(f\"Error while loading data to the database: {e}\")\n",
    "            raise e"
   ]
  }
 ],
 "metadata": {
  "kernelspec": {
   "display_name": "Python 3 (ipykernel)",
   "language": "python",
   "name": "python3"
  },
  "language_info": {
   "codemirror_mode": {
    "name": "ipython",
    "version": 3
   },
   "file_extension": ".py",
   "mimetype": "text/x-python",
   "name": "python",
   "nbconvert_exporter": "python",
   "pygments_lexer": "ipython3",
   "version": "3.11.6"
  }
 },
 "nbformat": 4,
 "nbformat_minor": 5
}
