{
 "cells": [
  {
   "cell_type": "code",
   "execution_count": 1,
   "id": "1d079d16-39f5-4cc6-8ea1-1c8402c94d7d",
   "metadata": {},
   "outputs": [],
   "source": [
    "%run /home/jovyan/work/ETL/src/transform_data_types.ipynb import ScorersDataType, ResultsDataType, ShootoutsDataType\n",
    "%run /home/jovyan/work/ETL/src/queries.ipynb import BestWinRatio, BestScorer, WorldCupWinner"
   ]
  },
  {
   "cell_type": "code",
   "execution_count": 2,
   "id": "84971681",
   "metadata": {},
   "outputs": [],
   "source": [
    "import logging\n",
    "from pyspark.sql import DataFrame, SparkSession"
   ]
  },
  {
   "cell_type": "code",
   "execution_count": null,
   "id": "108d5a45",
   "metadata": {},
   "outputs": [],
   "source": [
    "def transform_process(spark: SparkSession, scorers: DataFrame, results: DataFrame, shootouts: DataFrame):\n",
    "    \"\"\"\n",
    "    Transfroms data\n",
    "    \"\"\"\n",
    "    try:\n",
    "        logging.info(\"Started the transformation process:\")\n",
    "        scorers_dtype = ScorersDataType()\n",
    "        scorers = scorers_dtype.define_dtype(scorers)\n",
    "        results_dtype = ResultsDataType()\n",
    "        results = results_dtype.define_dtype(results)\n",
    "        shootouts_dtype = ShootoutsDataType()\n",
    "        shootouts = shootouts_dtype.define_dtype(shootouts)\n",
    "        \n",
    "        best_win_ratio = BestWinRatio().query(spark, results)\n",
    "        best_scorer = BestScorer().query(spark, scorers)\n",
    "        world_cup = WorldCupWinner().query(spark, results, shootouts)\n",
    "        world_cup.show()\n",
    "        logging.info(\"Finished the transformation process\")\n",
    "        return best_win_ratio\n",
    "    except Exception as e:\n",
    "        logging.error(f\"Error in the transformation process: {e}\")\n",
    "        raise e"
   ]
  }
 ],
 "metadata": {
  "kernelspec": {
   "display_name": "Python 3 (ipykernel)",
   "language": "python",
   "name": "python3"
  }
 },
 "nbformat": 4,
 "nbformat_minor": 5
}
