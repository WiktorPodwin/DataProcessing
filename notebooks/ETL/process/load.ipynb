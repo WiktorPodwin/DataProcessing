{
 "cells": [
  {
   "cell_type": "code",
   "execution_count": 2,
   "metadata": {},
   "outputs": [],
   "source": [
    "%run /home/jovyan/work/ETL/src/load_data.ipynb import LoadData"
   ]
  },
  {
   "cell_type": "code",
   "execution_count": null,
   "metadata": {},
   "outputs": [],
   "source": [
    "import logging\n",
    "from typing import Dict\n",
    "from pyspark.sql import SparkSession, DataFrame"
   ]
  },
  {
   "cell_type": "code",
   "execution_count": null,
   "metadata": {},
   "outputs": [],
   "source": [
    "def load_process(spark: SparkSession, tables: Dict[str, DataFrame]) -> None:\n",
    "    \"\"\"\n",
    "    Loads transformed tables into database\n",
    "    \n",
    "    Args:\n",
    "        spark: Active SparkSession\n",
    "        tables: Dictionary containing tables names as keys and DataFrames as values\n",
    "    \"\"\"\n",
    "    try:\n",
    "        logging.info(\"\\nStarted the loading process:\")\n",
    "        load_data = LoadData(spark)\n",
    "        for name in tables.keys():\n",
    "            load_data.load_to_database(tables[name], table_name=name)\n",
    "        logging.info(\"Finished the loading process\")\n",
    "    except Exception as e:\n",
    "        logging.error(f\"Error in the loading process: {e}\")\n",
    "        raise e\n",
    "\n"
   ]
  }
 ],
 "metadata": {
  "kernelspec": {
   "display_name": "Python 3 (ipykernel)",
   "language": "python",
   "name": "python3"
  }
 },
 "nbformat": 4,
 "nbformat_minor": 2
}
