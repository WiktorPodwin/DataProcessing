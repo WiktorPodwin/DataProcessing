{
 "cells": [
  {
   "cell_type": "code",
   "execution_count": 1,
   "metadata": {},
   "outputs": [],
   "source": [
    "%run /home/jovyan/work/database_operations/spark_db_connection.ipynb import SparkPostgresConnection\n",
    "%run /home/jovyan/work/database_operations/db_operations.ipynb import DataOperations"
   ]
  },
  {
   "cell_type": "code",
   "execution_count": null,
   "metadata": {},
   "outputs": [],
   "source": [
    "import logging\n",
    "from typing import List, Type\n",
    "from pyspark.sql import SparkSession"
   ]
  },
  {
   "cell_type": "code",
   "execution_count": 2,
   "metadata": {},
   "outputs": [],
   "source": [
    "def set_logging():\n",
    "    \"\"\"\n",
    "    Set up logging settings\n",
    "    \"\"\"\n",
    "    try:\n",
    "        logger = logging.getLogger()\n",
    "        if logger.hasHandlers():\n",
    "            logger.handlers.clear()\n",
    "        logging.basicConfig(level=logging.INFO, format='%(message)s')\n",
    "    except Exception as e:\n",
    "        logging.error(f\"Error in logging set up: {e}\")\n",
    "        raise e\n",
    "set_logging()"
   ]
  },
  {
   "cell_type": "code",
   "execution_count": 3,
   "metadata": {},
   "outputs": [],
   "source": [
    "class DataExtraction:\n",
    "    def __init__(self, spark: SparkSession) -> None:\n",
    "        \"\"\"\n",
    "        Args:\n",
    "            spark: Active SparkSession\n",
    "            \"\"\"\n",
    "        self.database_operations = DataOperations(spark)\n",
    "\n",
    "    def save_to_database(self, path: str, table_name: str) -> None:\n",
    "        \"\"\"\n",
    "        Saves the data into database\n",
    "        \n",
    "        Args:\n",
    "            path: Path to the CSV file\n",
    "            table_name: Name of a table to store in the database\n",
    "        \"\"\"\n",
    "        try:\n",
    "            table_to_save = self.database_operations.ingest_data(path)\n",
    "            self.database_operations.save_data(table_to_save, table_name)\n",
    "        except Exception as e:\n",
    "            logging.error(f\"Error in data extraction: {e}\")\n",
    "            raise e\n",
    "    "
   ]
  },
  {
   "cell_type": "code",
   "execution_count": 5,
   "metadata": {},
   "outputs": [],
   "source": [
    "class ExtractionParamaters:\n",
    "    \"\"\"\n",
    "    Class for defining data sources and table names\n",
    "    \"\"\"\n",
    "    list_of_paths: List[str] = [\"/home/jovyan/work/dataset/goalscorers.csv\", \n",
    "                                \"/home/jovyan/work/dataset/results.csv\", \n",
    "                                \"/home/jovyan/work/dataset/shootouts.csv\"]\n",
    "    list_of_names: List[str] = [\"scorers\", \"results\", \"shootouts\"]\n"
   ]
  }
 ],
 "metadata": {
  "kernelspec": {
   "display_name": "Python 3 (ipykernel)",
   "language": "python",
   "name": "python3"
  }
 },
 "nbformat": 4,
 "nbformat_minor": 4
}
