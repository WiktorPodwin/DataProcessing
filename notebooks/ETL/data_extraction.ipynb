{
 "cells": [
  {
   "cell_type": "code",
   "execution_count": 1,
   "metadata": {},
   "outputs": [],
   "source": [
    "%run /home/jovyan/work/database_operations/spark_db_connection.ipynb import SparkPostgresConnection\n",
    "%run /home/jovyan/work/database_operations/db_operations.ipynb import DataOperations"
   ]
  },
  {
   "cell_type": "code",
   "execution_count": 2,
   "metadata": {},
   "outputs": [],
   "source": [
    "import logging\n",
    "def set_logging():\n",
    "    \"\"\"\n",
    "    Set up logging settings\n",
    "    \"\"\"\n",
    "    try:\n",
    "        logger = logging.getLogger()\n",
    "        if logger.hasHandlers():\n",
    "            logger.handlers.clear()\n",
    "        logging.basicConfig(level=logging.INFO, format='%(message)s')\n",
    "    except Exception as e:\n",
    "        logging.error(f\"Error in logging set up: {e}\")\n",
    "        raise e\n",
    "set_logging()"
   ]
  },
  {
   "cell_type": "code",
   "execution_count": 3,
   "metadata": {},
   "outputs": [],
   "source": [
    "from typing import List\n",
    "from pyspark.sql import SparkSession\n",
    "\n",
    "class DataExtraction:\n",
    "    def __init__(self, spark: SparkSession, path: str, table_name: str) -> None:\n",
    "        \"\"\"\n",
    "        Args:\n",
    "            spark: Active SparkSession\n",
    "            list_of_paths: List of data paths for extraction\n",
    "            list_of_names: List of table names for saving into database\n",
    "        \"\"\"\n",
    "        self.spark = spark\n",
    "        self.path = path\n",
    "        self.table_name = table_name\n",
    "        self.database_operations = DataOperations(self.spark)\n",
    "\n",
    "    def save_to_database(self) -> None:\n",
    "        \"\"\"\n",
    "        Saves data as into database\n",
    "        \"\"\"\n",
    "        try:\n",
    "            table_to_save = self.database_operations.ingest_data(self.path)\n",
    "            self.database_operations.save_data(table_to_save, self.table_name)\n",
    "        except Exception as e:\n",
    "            logging.error(f\"Error in data extraction: {e}\")\n",
    "            raise e\n",
    "    "
   ]
  },
  {
   "cell_type": "code",
   "execution_count": 5,
   "metadata": {},
   "outputs": [],
   "source": [
    "class ExtractionParamaters:\n",
    "    \"\"\"\n",
    "    Class for defining data sources and table names\n",
    "    \"\"\"\n",
    "    list_of_paths: List[str] = [\"/home/jovyan/work/dataset/goalscorers.csv\", \n",
    "                                \"/home/jovyan/work/dataset/results.csv\", \n",
    "                                \"/home/jovyan/work/dataset/shootouts.csv\"]\n",
    "    list_of_names: List[str] = [\"scorers\", \"results\", \"shootouts\"]\n"
   ]
  },
  {
   "cell_type": "code",
   "execution_count": 6,
   "metadata": {},
   "outputs": [],
   "source": [
    "from typing import Type\n",
    "def extract_data(spark: SparkSession, config: Type[ExtractionParamaters] = ExtractionParamaters) -> None:\n",
    "    \"\"\"\n",
    "    Extracts the data and saves into database\n",
    "\n",
    "    Args:\n",
    "        spark: Active SparkSession\n",
    "        config: Class for defining parameters\n",
    "    \"\"\"\n",
    "    try:\n",
    "        data_extraction = DataExtraction(spark, config.list_of_paths, config.list_of_names)\n",
    "        data_extraction.save_to_database()\n",
    "        logging.info(\"Successfully saved the data into database, extracting process completed.\")\n",
    "    except Exception as e:\n",
    "        logging.error(f\"Error in data extraction: {e}\")\n",
    "        raise e"
   ]
  }
 ],
 "metadata": {
  "kernelspec": {
   "display_name": "Python 3 (ipykernel)",
   "language": "python",
   "name": "python3"
  },
  "language_info": {
   "codemirror_mode": {
    "name": "ipython",
    "version": 3
   },
   "file_extension": ".py",
   "mimetype": "text/x-python",
   "name": "python",
   "nbconvert_exporter": "python",
   "pygments_lexer": "ipython3",
   "version": "3.11.6"
  }
 },
 "nbformat": 4,
 "nbformat_minor": 4
}
