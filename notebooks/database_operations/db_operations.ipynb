{
 "cells": [
  {
   "cell_type": "code",
   "execution_count": 16,
   "id": "98570ea5-dfcd-40d2-9dfc-3276ea5918ae",
   "metadata": {},
   "outputs": [],
   "source": [
    "%run /home/jovyan/work/database_operations/spark_db_connection.ipynb"
   ]
  },
  {
   "cell_type": "code",
   "execution_count": 8,
   "id": "49f84f4b-3b21-4c83-aed7-394bd465dd52",
   "metadata": {},
   "outputs": [],
   "source": [
    "import logging\n",
    "from pyspark.sql import DataFrame, SparkSession"
   ]
  },
  {
   "cell_type": "code",
   "execution_count": 9,
   "id": "5e5aad84-83c0-4782-8ba7-debea373e6ba",
   "metadata": {},
   "outputs": [],
   "source": [
    "class DataOperations():\n",
    "    \"\"\"\n",
    "    Class for database operatoins\n",
    "    \"\"\"\n",
    "    def __init__(self, spark: SparkSession) -> None:\n",
    "        \"\"\"\n",
    "        Args:\n",
    "            spark: Active SparkSession\n",
    "        \"\"\"\n",
    "        self.spark = spark\n",
    "        self.db_connection = SparkPostgresConnection(self.spark)\n",
    "\n",
    "    def ingest_data(self, file_path: str) -> DataFrame:\n",
    "        \"\"\"\n",
    "        Ingests the data \n",
    "        \n",
    "        Args:\n",
    "            file_path: Path to the data\n",
    "        Returns:\n",
    "            DataFrame: Extracted data\n",
    "        \"\"\"\n",
    "        try:\n",
    "            df = self.spark.read.csv(file_path, header=True, inferSchema=True)\n",
    "            return df\n",
    "        except Exception as e:\n",
    "            logging.error(f\"Error in data extraction: {e}\")\n",
    "            raise e \n",
    "\n",
    "    def save_data(self, df: DataFrame, table_name: str) -> None:\n",
    "        \"\"\"\n",
    "        Saves the data into the Database\n",
    "\n",
    "        Args:\n",
    "            df: DataFrame to save into Database\n",
    "            table_name: Name of the new table\n",
    "        \"\"\"\n",
    "        try:\n",
    "            self.db_connection.save_to_db(df=df, table_name=table_name)\n",
    "        except Exception as e:\n",
    "            logging.error(f\"Error in data saving: {e}\")\n",
    "            raise e \n",
    "\n",
    "    def load_data(self, table_name: str) -> DataFrame:\n",
    "        \"\"\"\n",
    "        Loads the data from database\n",
    "        \n",
    "        Args:\n",
    "            table_name: Name of the table\n",
    "        Return:\n",
    "            DataFrame: Loaded data from database\n",
    "        \"\"\"\n",
    "        try:\n",
    "            return self.db_connection.load_from_db(table_name)\n",
    "        except Exception as e:\n",
    "            logging.error(f\"Error in data loading: {e}\")\n",
    "            raise e"
   ]
  }
 ],
 "metadata": {
  "kernelspec": {
   "display_name": "Python 3 (ipykernel)",
   "language": "python",
   "name": "python3"
  },
  "language_info": {
   "codemirror_mode": {
    "name": "ipython",
    "version": 3
   },
   "file_extension": ".py",
   "mimetype": "text/x-python",
   "name": "python",
   "nbconvert_exporter": "python",
   "pygments_lexer": "ipython3",
   "version": "3.11.6"
  }
 },
 "nbformat": 4,
 "nbformat_minor": 5
}
